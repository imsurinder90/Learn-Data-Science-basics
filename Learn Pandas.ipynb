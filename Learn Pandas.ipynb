{
 "cells": [
  {
   "cell_type": "code",
   "execution_count": 2,
   "metadata": {},
   "outputs": [],
   "source": [
    "import numpy as np\n",
    "import pandas as pd"
   ]
  },
  {
   "cell_type": "code",
   "execution_count": 2,
   "metadata": {},
   "outputs": [
    {
     "name": "stdout",
     "output_type": "stream",
     "text": [
      "[1 1 1]\n"
     ]
    }
   ],
   "source": [
    "my_array = np.ones(3, dtype=([('foo', int), ('bar', float)]))\n",
    "# Print the structured array\n",
    "# print(my_array['foo'])\n",
    "\n",
    "# A record array\n",
    "my_array2 = my_array.view(np.recarray)\n",
    "# Print the record array\n",
    "print(my_array2.foo)"
   ]
  },
  {
   "cell_type": "code",
   "execution_count": 5,
   "metadata": {},
   "outputs": [
    {
     "name": "stdout",
     "output_type": "stream",
     "text": [
      "     Col1 Col2\n",
      "Row1    1    2\n",
      "Row2    3    4\n"
     ]
    },
    {
     "data": {
      "text/plain": [
       "(2, 2)"
      ]
     },
     "execution_count": 5,
     "metadata": {},
     "output_type": "execute_result"
    }
   ],
   "source": [
    "# Creating a DataFrame from Numpy 2-d Array\n",
    "# A DataFrame has three parts: 1) data 2) index 3) columns\n",
    "data = np.array([['','Col1','Col2'],\n",
    "                ['Row1',1,2],\n",
    "                ['Row2',3,4]])\n",
    "                \n",
    "df = pd.DataFrame(data=data[1:,1:],\n",
    "                  index=data[1:,0],\n",
    "                  columns=data[0,1:])\n",
    "print(df)\n",
    "df.shape"
   ]
  },
  {
   "cell_type": "code",
   "execution_count": 7,
   "metadata": {},
   "outputs": [
    {
     "ename": "NameError",
     "evalue": "name 'my_df' is not defined",
     "output_type": "error",
     "traceback": [
      "\u001b[0;31m---------------------------------------------------------------------------\u001b[0m",
      "\u001b[0;31mNameError\u001b[0m                                 Traceback (most recent call last)",
      "\u001b[0;32m<ipython-input-7-ec2d361468db>\u001b[0m in \u001b[0;36m<module>\u001b[0;34m()\u001b[0m\n\u001b[1;32m     13\u001b[0m \u001b[0;31m# # Take a DataFrame as input to your DataFrame\u001b[0m\u001b[0;34m\u001b[0m\u001b[0;34m\u001b[0m\u001b[0m\n\u001b[1;32m     14\u001b[0m \u001b[0mdf\u001b[0m \u001b[0;34m=\u001b[0m \u001b[0mpd\u001b[0m\u001b[0;34m.\u001b[0m\u001b[0mDataFrame\u001b[0m\u001b[0;34m(\u001b[0m\u001b[0mdata\u001b[0m\u001b[0;34m=\u001b[0m\u001b[0;34m[\u001b[0m\u001b[0;36m4\u001b[0m\u001b[0;34m,\u001b[0m\u001b[0;36m5\u001b[0m\u001b[0;34m,\u001b[0m\u001b[0;36m6\u001b[0m\u001b[0;34m,\u001b[0m\u001b[0;36m7\u001b[0m\u001b[0;34m]\u001b[0m\u001b[0;34m,\u001b[0m \u001b[0mindex\u001b[0m\u001b[0;34m=\u001b[0m\u001b[0mrange\u001b[0m\u001b[0;34m(\u001b[0m\u001b[0;36m0\u001b[0m\u001b[0;34m,\u001b[0m\u001b[0;36m4\u001b[0m\u001b[0;34m)\u001b[0m\u001b[0;34m,\u001b[0m \u001b[0mcolumns\u001b[0m\u001b[0;34m=\u001b[0m\u001b[0;34m[\u001b[0m\u001b[0;34m'A'\u001b[0m\u001b[0;34m]\u001b[0m\u001b[0;34m)\u001b[0m\u001b[0;34m\u001b[0m\u001b[0m\n\u001b[0;32m---> 15\u001b[0;31m \u001b[0;32mprint\u001b[0m\u001b[0;34m(\u001b[0m\u001b[0mmy_df\u001b[0m\u001b[0;34m.\u001b[0m\u001b[0mindex\u001b[0m\u001b[0;34m)\u001b[0m\u001b[0;34m\u001b[0m\u001b[0m\n\u001b[0m\u001b[1;32m     16\u001b[0m \u001b[0;31m# print(my_df)\u001b[0m\u001b[0;34m\u001b[0m\u001b[0;34m\u001b[0m\u001b[0m\n\u001b[1;32m     17\u001b[0m \u001b[0;34m\u001b[0m\u001b[0m\n",
      "\u001b[0;31mNameError\u001b[0m: name 'my_df' is not defined"
     ]
    }
   ],
   "source": [
    "# Lets understand basic concepts of DataFrame\n",
    "\n",
    "# Take a 2D array as input to your DataFrame \n",
    "my_2darray = np.array([[1, 2, 3], [4, 5, 6]])\n",
    "# print(my_2darray)\n",
    "\n",
    "# print pd.DataFrame(my_2darray)\n",
    "\n",
    "# Take a dictionary as input to your DataFrame \n",
    "my_dict = {1: ['1', '3'], 2: ['1', '2'], 3: ['2', '4']}\n",
    "# print(my_dict)\n",
    "\n",
    "# # Take a DataFrame as input to your DataFrame \n",
    "df = pd.DataFrame(data=[4,5,6,7], index=range(0,4), columns=['A'])\n",
    "print(my_df.index)\n",
    "# print(my_df)\n",
    "\n",
    "# # Take a Series as input to your DataFrame\n",
    "my_series = pd.Series({\"Belgium\":\"Brussels\", \"India\":\"New Delhi\", \"United Kingdom\":\"London\", \"United States\":\"Washington\"})\n",
    "# print(my_series)\n",
    "\n",
    "# list(df)"
   ]
  },
  {
   "cell_type": "code",
   "execution_count": 8,
   "metadata": {},
   "outputs": [
    {
     "name": "stdout",
     "output_type": "stream",
     "text": [
      "A    4\n",
      "Name: 0, dtype: int64\n"
     ]
    },
    {
     "data": {
      "text/plain": [
       "0    4\n",
       "1    5\n",
       "2    6\n",
       "3    7\n",
       "Name: A, dtype: int64"
      ]
     },
     "execution_count": 8,
     "metadata": {},
     "output_type": "execute_result"
    }
   ],
   "source": [
    "# Accessing Dataframe first element\n",
    "\n",
    "df = pd.DataFrame(data=[4,5,6,7], index=range(0,4), columns=['A'])\n",
    "\n",
    "# print(df)\n",
    "\n",
    "# Using `at[]`\n",
    "# print(df.at[0,'A'])\n",
    "\n",
    "# Using `iat[]`\n",
    "# print(df.iat[0,0])\n",
    "\n",
    "# Selecting Rows and Columns\n",
    "print (df.iloc[0])\n",
    "df.loc[:,'A']"
   ]
  },
  {
   "cell_type": "code",
   "execution_count": 9,
   "metadata": {},
   "outputs": [
    {
     "name": "stdout",
     "output_type": "stream",
     "text": [
      "   A  B  C\n",
      "0  1  2  3\n",
      "1  4  5  6\n",
      "2  7  8  9\n"
     ]
    }
   ],
   "source": [
    "# Add column to DataFrame\n",
    "\n",
    "df = pd.DataFrame(data=np.array([[1, 2, 3], [4, 5, 6], [7, 8, 9]]), columns=['A', 'B', 'C'])\n",
    "print (df)\n",
    "\n",
    "# Use `.index`\n",
    "# df['D'] = df.index\n",
    "\n",
    "# Print `df`\n",
    "# print(df)\n"
   ]
  },
  {
   "cell_type": "code",
   "execution_count": 111,
   "metadata": {},
   "outputs": [
    {
     "name": "stdout",
     "output_type": "stream",
     "text": [
      "   1  2  3\n",
      "0  1  1  2\n",
      "1  3  2  4\n",
      "0    5\n",
      "1    6\n",
      "dtype: object\n",
      "   1  2  3  4\n",
      "0  1  1  2  5\n",
      "1  3  2  4  6\n"
     ]
    }
   ],
   "source": [
    "# Study the DataFrame `df`\n",
    "# Create a 2x2 DataFrame\n",
    "\n",
    "df2 = pd.DataFrame(data=[[1, 1, 2], [3, 2, 4]], columns=['1', '2', '3'])\n",
    "print(df2)\n",
    "\n",
    "print (pd.Series(['5', '6'], index=df2.index))\n",
    "# Append a column to `df2`\n",
    "df2.loc[:, 4] = pd.Series(['5', '6'], index=df2.index)\n",
    "\n",
    "# # Print out `df` again to see the changes\n",
    "print(df2)"
   ]
  },
  {
   "cell_type": "code",
   "execution_count": 44,
   "metadata": {},
   "outputs": [
    {
     "name": "stdout",
     "output_type": "stream",
     "text": [
      "              48 49 50\n",
      "2.5   20-11-2017  2  3\n",
      "12.6  25-11-2017  5  6\n",
      "4.8   30-11-2017  8  9\n",
      "DatetimeIndex(['2000-01-01 00:00:00', '2000-01-01 00:01:00',\n",
      "               '2000-01-01 00:02:00', '2000-01-01 00:03:00',\n",
      "               '2000-01-01 00:04:00', '2000-01-01 00:05:00',\n",
      "               '2000-01-01 00:06:00', '2000-01-01 00:07:00',\n",
      "               '2000-01-01 00:08:00'],\n",
      "              dtype='datetime64[ns]', freq='T')\n"
     ]
    },
    {
     "data": {
      "text/plain": [
       "DatetimeIndexResampler [freq=<3 * Minutes>, axis=0, closed=left, label=left, convention=start, base=0]"
      ]
     },
     "execution_count": 44,
     "metadata": {},
     "output_type": "execute_result"
    }
   ],
   "source": [
    "# Reset index of DataFrame\n",
    "df = pd.DataFrame(data=np.array([['20-11-2017', 2, 3], ['25-11-2017', 5, 6], ['30-11-2017', 8, 9]]), index= [2.5, 12.6, 4.8], columns=[48, 49, 50])\n",
    "\n",
    "print(df)\n",
    "\n",
    "# Use `reset_index()` to reset the values. \n",
    "ndf = df.reset_index(level=0, drop=True)\n",
    "\n",
    "df.reset_index(level=0, drop='inplace')\n",
    "df\n",
    "\n",
    "# help(df.resample)\n",
    "mydf = pd.to_datetime(df[48])\n",
    "# print mydf\n",
    "index = pd.date_range('1/1/2000', periods=9, freq='T')\n",
    "print index\n",
    "series = pd.Series(range(9), index=index)\n",
    "tdf = series.resample('3T')\n",
    "tdf"
   ]
  },
  {
   "cell_type": "code",
   "execution_count": 174,
   "metadata": {},
   "outputs": [
    {
     "name": "stdout",
     "output_type": "stream",
     "text": [
      "      48  49  50\n",
      "2.5    1   2   3\n",
      "12.6   4   5   6\n",
      "4.8    7   8   9\n",
      "4.8   40  50  60\n",
      "2.5   23  35  37\n"
     ]
    },
    {
     "data": {
      "text/html": [
       "<div>\n",
       "<style scoped>\n",
       "    .dataframe tbody tr th:only-of-type {\n",
       "        vertical-align: middle;\n",
       "    }\n",
       "\n",
       "    .dataframe tbody tr th {\n",
       "        vertical-align: top;\n",
       "    }\n",
       "\n",
       "    .dataframe thead th {\n",
       "        text-align: right;\n",
       "    }\n",
       "</style>\n",
       "<table border=\"1\" class=\"dataframe\">\n",
       "  <thead>\n",
       "    <tr style=\"text-align: right;\">\n",
       "      <th></th>\n",
       "      <th>48</th>\n",
       "      <th>49</th>\n",
       "      <th>50</th>\n",
       "    </tr>\n",
       "    <tr>\n",
       "      <th>index</th>\n",
       "      <th></th>\n",
       "      <th></th>\n",
       "      <th></th>\n",
       "    </tr>\n",
       "  </thead>\n",
       "  <tbody>\n",
       "    <tr>\n",
       "      <th>12.6</th>\n",
       "      <td>4</td>\n",
       "      <td>5</td>\n",
       "      <td>6</td>\n",
       "    </tr>\n",
       "    <tr>\n",
       "      <th>4.8</th>\n",
       "      <td>40</td>\n",
       "      <td>50</td>\n",
       "      <td>60</td>\n",
       "    </tr>\n",
       "    <tr>\n",
       "      <th>2.5</th>\n",
       "      <td>23</td>\n",
       "      <td>35</td>\n",
       "      <td>37</td>\n",
       "    </tr>\n",
       "  </tbody>\n",
       "</table>\n",
       "</div>"
      ],
      "text/plain": [
       "       48  49  50\n",
       "index            \n",
       "12.6    4   5   6\n",
       "4.8    40  50  60\n",
       "2.5    23  35  37"
      ]
     },
     "execution_count": 174,
     "metadata": {},
     "output_type": "execute_result"
    }
   ],
   "source": [
    "# Delete index from DataFrame\n",
    "\n",
    "df = pd.DataFrame(data=np.array([[1, 2, 3], [4, 5, 6], [7, 8, 9], [40, 50, 60], [23, 35, 37]]), \n",
    "                  index= [2.5, 12.6, 4.8, 4.8, 2.5], \n",
    "                  columns=[48, 49, 50])\n",
    "print (df)                  \n",
    "df.reset_index().drop_duplicates(subset='index', keep='last').set_index('index')"
   ]
  },
  {
   "cell_type": "code",
   "execution_count": 145,
   "metadata": {},
   "outputs": [
    {
     "name": "stdout",
     "output_type": "stream",
     "text": [
      "   A  B  C\n",
      "0  1  2  3\n",
      "1  4  5  6\n",
      "2  7  8  9\n"
     ]
    },
    {
     "data": {
      "text/html": [
       "<div>\n",
       "<style scoped>\n",
       "    .dataframe tbody tr th:only-of-type {\n",
       "        vertical-align: middle;\n",
       "    }\n",
       "\n",
       "    .dataframe tbody tr th {\n",
       "        vertical-align: top;\n",
       "    }\n",
       "\n",
       "    .dataframe thead th {\n",
       "        text-align: right;\n",
       "    }\n",
       "</style>\n",
       "<table border=\"1\" class=\"dataframe\">\n",
       "  <thead>\n",
       "    <tr style=\"text-align: right;\">\n",
       "      <th></th>\n",
       "      <th>A</th>\n",
       "      <th>C</th>\n",
       "    </tr>\n",
       "  </thead>\n",
       "  <tbody>\n",
       "    <tr>\n",
       "      <th>0</th>\n",
       "      <td>1</td>\n",
       "      <td>3</td>\n",
       "    </tr>\n",
       "    <tr>\n",
       "      <th>1</th>\n",
       "      <td>4</td>\n",
       "      <td>6</td>\n",
       "    </tr>\n",
       "    <tr>\n",
       "      <th>2</th>\n",
       "      <td>7</td>\n",
       "      <td>9</td>\n",
       "    </tr>\n",
       "  </tbody>\n",
       "</table>\n",
       "</div>"
      ],
      "text/plain": [
       "   A  C\n",
       "0  1  3\n",
       "1  4  6\n",
       "2  7  9"
      ]
     },
     "execution_count": 145,
     "metadata": {},
     "output_type": "execute_result"
    }
   ],
   "source": [
    "# Deleting a Column from the DataFrame\n",
    "\n",
    "df = pd.DataFrame(data=np.array([[1, 2, 3], [4, 5, 6], [7, 8, 9]]), columns=['A', 'B', 'C'])\n",
    "print (df)\n",
    "\n",
    "# Drop the column with label 'A'                  \n",
    "# df.drop('A', axis=1, inplace=True)\n",
    "\n",
    "# Drop the column at position 1\n",
    "df.drop(df.columns[[1]], axis=1)"
   ]
  },
  {
   "cell_type": "code",
   "execution_count": 159,
   "metadata": {},
   "outputs": [
    {
     "name": "stdout",
     "output_type": "stream",
     "text": [
      "      48  49  50\n",
      "2.5    1   2   3\n",
      "12.6   4   5   6\n",
      "4.8    7   8   9\n",
      "4.8   40  50  60\n",
      "2.5   23  35  37\n",
      "3.5   23  35  37\n"
     ]
    },
    {
     "data": {
      "text/html": [
       "<div>\n",
       "<style scoped>\n",
       "    .dataframe tbody tr th:only-of-type {\n",
       "        vertical-align: middle;\n",
       "    }\n",
       "\n",
       "    .dataframe tbody tr th {\n",
       "        vertical-align: top;\n",
       "    }\n",
       "\n",
       "    .dataframe thead th {\n",
       "        text-align: right;\n",
       "    }\n",
       "</style>\n",
       "<table border=\"1\" class=\"dataframe\">\n",
       "  <thead>\n",
       "    <tr style=\"text-align: right;\">\n",
       "      <th></th>\n",
       "      <th>48</th>\n",
       "      <th>49</th>\n",
       "      <th>50</th>\n",
       "    </tr>\n",
       "  </thead>\n",
       "  <tbody>\n",
       "    <tr>\n",
       "      <th>2.5</th>\n",
       "      <td>1</td>\n",
       "      <td>2</td>\n",
       "      <td>3</td>\n",
       "    </tr>\n",
       "    <tr>\n",
       "      <th>12.6</th>\n",
       "      <td>4</td>\n",
       "      <td>5</td>\n",
       "      <td>6</td>\n",
       "    </tr>\n",
       "    <tr>\n",
       "      <th>4.8</th>\n",
       "      <td>7</td>\n",
       "      <td>8</td>\n",
       "      <td>9</td>\n",
       "    </tr>\n",
       "    <tr>\n",
       "      <th>4.8</th>\n",
       "      <td>40</td>\n",
       "      <td>50</td>\n",
       "      <td>60</td>\n",
       "    </tr>\n",
       "    <tr>\n",
       "      <th>2.5</th>\n",
       "      <td>23</td>\n",
       "      <td>35</td>\n",
       "      <td>37</td>\n",
       "    </tr>\n",
       "  </tbody>\n",
       "</table>\n",
       "</div>"
      ],
      "text/plain": [
       "      48  49  50\n",
       "2.5    1   2   3\n",
       "12.6   4   5   6\n",
       "4.8    7   8   9\n",
       "4.8   40  50  60\n",
       "2.5   23  35  37"
      ]
     },
     "execution_count": 159,
     "metadata": {},
     "output_type": "execute_result"
    }
   ],
   "source": [
    "# Removing a Row from Your DataFrame\n",
    "df = pd.DataFrame(data=np.array([[1, 2, 3], [4, 5, 6], [7, 8, 9], [40, 50, 60], [23, 35, 37], [23, 35, 37]]), \n",
    "                  index= [2.5, 12.6, 4.8, 4.8, 2.5, 3.5], \n",
    "                  columns=[48, 49, 50])\n",
    "print(df)\n",
    "\n",
    "# Drop the duplicates in `df`\n",
    "# df.drop_duplicates([48], keep='last')\n",
    "df.drop(df.index[5])"
   ]
  },
  {
   "cell_type": "code",
   "execution_count": 173,
   "metadata": {},
   "outputs": [
    {
     "name": "stdout",
     "output_type": "stream",
     "text": [
      "   A  B  C\n",
      "0  1  2  3\n",
      "1  4  5  6\n",
      "2  7  8  9\n"
     ]
    },
    {
     "data": {
      "text/html": [
       "<div>\n",
       "<style scoped>\n",
       "    .dataframe tbody tr th:only-of-type {\n",
       "        vertical-align: middle;\n",
       "    }\n",
       "\n",
       "    .dataframe tbody tr th {\n",
       "        vertical-align: top;\n",
       "    }\n",
       "\n",
       "    .dataframe thead th {\n",
       "        text-align: right;\n",
       "    }\n",
       "</style>\n",
       "<table border=\"1\" class=\"dataframe\">\n",
       "  <thead>\n",
       "    <tr style=\"text-align: right;\">\n",
       "      <th></th>\n",
       "      <th>C1</th>\n",
       "      <th>C2</th>\n",
       "      <th>C3</th>\n",
       "    </tr>\n",
       "  </thead>\n",
       "  <tbody>\n",
       "    <tr>\n",
       "      <th>a</th>\n",
       "      <td>1</td>\n",
       "      <td>2</td>\n",
       "      <td>3</td>\n",
       "    </tr>\n",
       "    <tr>\n",
       "      <th>b</th>\n",
       "      <td>4</td>\n",
       "      <td>5</td>\n",
       "      <td>6</td>\n",
       "    </tr>\n",
       "    <tr>\n",
       "      <th>2</th>\n",
       "      <td>7</td>\n",
       "      <td>8</td>\n",
       "      <td>9</td>\n",
       "    </tr>\n",
       "  </tbody>\n",
       "</table>\n",
       "</div>"
      ],
      "text/plain": [
       "   C1  C2  C3\n",
       "a   1   2   3\n",
       "b   4   5   6\n",
       "2   7   8   9"
      ]
     },
     "execution_count": 173,
     "metadata": {},
     "output_type": "execute_result"
    }
   ],
   "source": [
    "# Rename Index and columns\n",
    "\n",
    "df = pd.DataFrame(data=np.array([[1, 2, 3], [4, 5, 6], [7, 8, 9]]), columns=['A', 'B', 'C'])\n",
    "print df\n",
    "\n",
    "# Define the new names of your columns\n",
    "newcols = {\n",
    "    'A': 'C1', \n",
    "    'B': 'C2', \n",
    "    'C': 'C3'\n",
    "}\n",
    "\n",
    "# Use `rename()` to rename your columns\n",
    "df.rename(columns=newcols, inplace=True)\n",
    "\n",
    "# Rename your index\n",
    "df.rename(index={0: 'a', 1: 'b'}, inplace=True)\n",
    "df"
   ]
  },
  {
   "cell_type": "code",
   "execution_count": 185,
   "metadata": {},
   "outputs": [
    {
     "name": "stdout",
     "output_type": "stream",
     "text": [
      "     Student1 Student2    Student3\n",
      "0  Acceptable       OK        Poor\n",
      "1          OK  Perfect  Acceptable\n",
      "2       Awful    Awful     Perfect\n",
      "   Student1  Student2  Student3\n",
      "0         3         2         1\n",
      "1         2         4         3\n",
      "2         0         0         4\n"
     ]
    }
   ],
   "source": [
    "# Replacing All Occurrences of a String in a DataFrame\n",
    "\n",
    "df = pd.DataFrame(np.array([['Acceptable', 'OK', 'Poor'], ['OK', 'Perfect', 'Acceptable'], ['Awful', 'Awful', 'Perfect']]),\n",
    "                 index=[0, 1, 2], columns=['Student1', 'Student2', 'Student3'])         \n",
    "\n",
    "print(df)\n",
    "\n",
    "ndf = df.replace(['Awful', 'Poor', 'OK', 'Acceptable', 'Perfect'], [0, 1, 2, 3, 4])\n",
    "\n",
    "print(ndf)"
   ]
  },
  {
   "cell_type": "code",
   "execution_count": 193,
   "metadata": {},
   "outputs": [
    {
     "name": "stdout",
     "output_type": "stream",
     "text": [
      "  class test result\n",
      "0     1    2    +3b\n",
      "1     4    5    -6B\n",
      "2     7    8    +9A\n",
      "  class test result\n",
      "0     1    2      3\n",
      "1     4    5      6\n",
      "2     7    8      9\n"
     ]
    }
   ],
   "source": [
    "# Removing Parts From Strings in the Cells of Your DataFrame\n",
    "\n",
    "df = pd.DataFrame(data=[[1, 2, '+3b'], [4, 5, '-6B'], ['7', '8', '+9A']], columns=['class', 'test', 'result'])\n",
    "\n",
    "print(df)\n",
    "\n",
    "df['result'] = df['result'].map(lambda x: x.strip('+-').rstrip('aAbB'))\n",
    "\n",
    "print(df)"
   ]
  },
  {
   "cell_type": "code",
   "execution_count": 233,
   "metadata": {},
   "outputs": [
    {
     "name": "stdout",
     "output_type": "stream",
     "text": [
      "0  0    23:44:55\n",
      "1  0    66:77:88\n",
      "2  0    43:68:05\n",
      "   1    56:34:12\n",
      "dtype: object\n"
     ]
    }
   ],
   "source": [
    "# Splitting Text in a Column into Multiple Rows in a DataFrame\n",
    "\n",
    "df = pd.DataFrame(data=[[34, 0, '23:44:55'],\n",
    "                        [22, 0, '66:77:88'],\n",
    "                        [19, 1, '43:68:05 56:34:12']],\n",
    "                  columns=['Age', 'PlusOne', 'Ticket'])\n",
    "# print(df)\n",
    "# Split out the two values in the third row\n",
    "# Make it a Series\n",
    "# Stack the values\n",
    "ticket_series = df['Ticket'].str.split(' ').apply(pd.Series, 1).stack()\n",
    "print(ticket_series)\n",
    "\n",
    "# Get rid of the stack:\n",
    "# Drop the level to line up with the DataFrame\n",
    "#ticket_series.index = ticket_series.index.droplevel(-1)\n",
    "# print(ticket_series)\n",
    "\n",
    "# Make your `ticket_series` a dataframe \n",
    "#ticketdf = pd.DataFrame(ticket_series, columns=['Ticket'])\n",
    "#print(ticketdf)\n",
    "\n",
    "#del df['Ticket']\n",
    "\n",
    "# Join the `ticketdf` DataFrame to `df`\n",
    "#ndf = df.join(ticketdf)\n",
    "#ndf"
   ]
  },
  {
   "cell_type": "code",
   "execution_count": 243,
   "metadata": {},
   "outputs": [
    {
     "name": "stdout",
     "output_type": "stream",
     "text": [
      "   A  B  C\n",
      "0  1  2  3\n",
      "1  4  5  6\n",
      "2  7  8  9\n"
     ]
    },
    {
     "data": {
      "text/html": [
       "<div>\n",
       "<style scoped>\n",
       "    .dataframe tbody tr th:only-of-type {\n",
       "        vertical-align: middle;\n",
       "    }\n",
       "\n",
       "    .dataframe tbody tr th {\n",
       "        vertical-align: top;\n",
       "    }\n",
       "\n",
       "    .dataframe thead th {\n",
       "        text-align: right;\n",
       "    }\n",
       "</style>\n",
       "<table border=\"1\" class=\"dataframe\">\n",
       "  <thead>\n",
       "    <tr style=\"text-align: right;\">\n",
       "      <th></th>\n",
       "      <th>A</th>\n",
       "      <th>B</th>\n",
       "      <th>C</th>\n",
       "    </tr>\n",
       "  </thead>\n",
       "  <tbody>\n",
       "    <tr>\n",
       "      <th>0</th>\n",
       "      <td>2</td>\n",
       "      <td>4</td>\n",
       "      <td>6</td>\n",
       "    </tr>\n",
       "    <tr>\n",
       "      <th>1</th>\n",
       "      <td>8</td>\n",
       "      <td>10</td>\n",
       "      <td>12</td>\n",
       "    </tr>\n",
       "    <tr>\n",
       "      <th>2</th>\n",
       "      <td>14</td>\n",
       "      <td>16</td>\n",
       "      <td>18</td>\n",
       "    </tr>\n",
       "  </tbody>\n",
       "</table>\n",
       "</div>"
      ],
      "text/plain": [
       "    A   B   C\n",
       "0   2   4   6\n",
       "1   8  10  12\n",
       "2  14  16  18"
      ]
     },
     "execution_count": 243,
     "metadata": {},
     "output_type": "execute_result"
    }
   ],
   "source": [
    "# Use of apply(fn_name) to modify row, column or both's data\n",
    "df = pd.DataFrame(data=np.array([[1, 2, 3], [4, 5, 6], [7, 8, 9]]), columns=['A', 'B', 'C'])\n",
    "print (df)\n",
    "\n",
    "doubler = lambda x: x*2\n",
    "\n",
    "# Apply to column\n",
    "# df['A'] = df.apply(doubler)\n",
    "# print(df['A'])\n",
    "\n",
    "# Apply to row or index using loc method\n",
    "# df.loc[0].apply(doubler)\n",
    "\n",
    "# Apply to each element of DataFrame\n",
    "df.applymap(doubler)"
   ]
  },
  {
   "cell_type": "code",
   "execution_count": 3,
   "metadata": {},
   "outputs": [
    {
     "name": "stdout",
     "output_type": "stream",
     "text": [
      "    A\n",
      "0 NaN\n",
      "1 NaN\n",
      "2 NaN\n",
      "3 NaN\n",
      "    A\n",
      "0 NaN\n",
      "1 NaN\n",
      "2 NaN\n",
      "3 NaN\n"
     ]
    }
   ],
   "source": [
    "# Creating an empty DataFrame\n",
    "\n",
    "df = pd.DataFrame(np.nan, index=[0,1,2,3], columns=['A'])\n",
    "print(df)\n",
    "\n",
    "df = pd.DataFrame(index=range(0,4),columns=['A'], dtype='float')\n",
    "print(df)\n",
    "\n"
   ]
  },
  {
   "cell_type": "code",
   "execution_count": 4,
   "metadata": {},
   "outputs": [
    {
     "name": "stdout",
     "output_type": "stream",
     "text": [
      "        category   price    store  testscore\n",
      "0       Cleaning   11.42  Walmart          4\n",
      "1       Cleaning   23.50      Dia          3\n",
      "2  Entertainment   19.99  Walmart          5\n",
      "3  Entertainment   15.95     Fnac          7\n",
      "4           Tech   55.75      Dia          5\n",
      "5           Tech  111.55  Walmart          8\n"
     ]
    },
    {
     "data": {
      "text/html": [
       "<div>\n",
       "<style scoped>\n",
       "    .dataframe tbody tr th:only-of-type {\n",
       "        vertical-align: middle;\n",
       "    }\n",
       "\n",
       "    .dataframe tbody tr th {\n",
       "        vertical-align: top;\n",
       "    }\n",
       "\n",
       "    .dataframe thead th {\n",
       "        text-align: right;\n",
       "    }\n",
       "</style>\n",
       "<table border=\"1\" class=\"dataframe\">\n",
       "  <thead>\n",
       "    <tr style=\"text-align: right;\">\n",
       "      <th>store</th>\n",
       "      <th>Dia</th>\n",
       "      <th>Fnac</th>\n",
       "      <th>Walmart</th>\n",
       "    </tr>\n",
       "    <tr>\n",
       "      <th>category</th>\n",
       "      <th></th>\n",
       "      <th></th>\n",
       "      <th></th>\n",
       "    </tr>\n",
       "  </thead>\n",
       "  <tbody>\n",
       "    <tr>\n",
       "      <th>Cleaning</th>\n",
       "      <td>23.50</td>\n",
       "      <td>NaN</td>\n",
       "      <td>11.42</td>\n",
       "    </tr>\n",
       "    <tr>\n",
       "      <th>Entertainment</th>\n",
       "      <td>NaN</td>\n",
       "      <td>15.95</td>\n",
       "      <td>19.99</td>\n",
       "    </tr>\n",
       "    <tr>\n",
       "      <th>Tech</th>\n",
       "      <td>55.75</td>\n",
       "      <td>NaN</td>\n",
       "      <td>111.55</td>\n",
       "    </tr>\n",
       "  </tbody>\n",
       "</table>\n",
       "</div>"
      ],
      "text/plain": [
       "store            Dia   Fnac  Walmart\n",
       "category                            \n",
       "Cleaning       23.50    NaN    11.42\n",
       "Entertainment    NaN  15.95    19.99\n",
       "Tech           55.75    NaN   111.55"
      ]
     },
     "execution_count": 4,
     "metadata": {},
     "output_type": "execute_result"
    }
   ],
   "source": [
    "# Reshape DataFrame\n",
    "\n",
    "# 1. Using Pivot\n",
    "\n",
    "products = pd.DataFrame({'category': ['Cleaning', 'Cleaning', 'Entertainment', 'Entertainment', 'Tech', 'Tech'],\n",
    "                        'store': ['Walmart', 'Dia', 'Walmart', 'Fnac', 'Dia','Walmart'],\n",
    "                        'price':[11.42, 23.50, 19.99, 15.95, 55.75, 111.55],\n",
    "                        'testscore': [4, 3, 5, 7, 5, 8]})\n",
    "\n",
    "print(products)\n",
    "# Use `pivot()` to pivot the DataFrame\n",
    "pivot_products = products.pivot(index='category', columns='store', values='price')\n",
    "\n",
    "# Check out the result\n",
    "# print(pivot_products)\n",
    "pivot_products"
   ]
  },
  {
   "cell_type": "code",
   "execution_count": 276,
   "metadata": {},
   "outputs": [
    {
     "name": "stdout",
     "output_type": "stream",
     "text": [
      "   A  B  C\n",
      "0  1  2  3\n",
      "1  4  5  6\n",
      "2  7  8  9\n",
      "(1, 2)\n",
      "(4, 5)\n",
      "(7, 8)\n",
      "Help on function hist in module matplotlib.pyplot:\n",
      "\n",
      "hist(x, bins=None, range=None, density=None, weights=None, cumulative=False, bottom=None, histtype=u'bar', align=u'mid', orientation=u'vertical', rwidth=None, log=False, color=None, label=None, stacked=False, normed=None, hold=None, data=None, **kwargs)\n",
      "    Plot a histogram.\n",
      "    \n",
      "    Compute and draw the histogram of *x*. The return value is a\n",
      "    tuple (*n*, *bins*, *patches*) or ([*n0*, *n1*, ...], *bins*,\n",
      "    [*patches0*, *patches1*,...]) if the input contains multiple\n",
      "    data.\n",
      "    \n",
      "    Multiple data can be provided via *x* as a list of datasets\n",
      "    of potentially different length ([*x0*, *x1*, ...]), or as\n",
      "    a 2-D ndarray in which each column is a dataset.  Note that\n",
      "    the ndarray form is transposed relative to the list form.\n",
      "    \n",
      "    Masked arrays are not supported at present.\n",
      "    \n",
      "    Parameters\n",
      "    ----------\n",
      "    x : (n,) array or sequence of (n,) arrays\n",
      "        Input values, this takes either a single array or a sequency of\n",
      "        arrays which are not required to be of the same length\n",
      "    \n",
      "    bins : integer or array_like or 'auto', optional\n",
      "        If an integer is given, ``bins + 1`` bin edges are returned,\n",
      "        consistently with :func:`numpy.histogram` for numpy version >=\n",
      "        1.3.\n",
      "    \n",
      "        Unequally spaced bins are supported if *bins* is a sequence.\n",
      "    \n",
      "        If Numpy 1.11 is installed, may also be ``'auto'``.\n",
      "    \n",
      "        Default is taken from the rcParam ``hist.bins``.\n",
      "    \n",
      "    range : tuple or None, optional\n",
      "        The lower and upper range of the bins. Lower and upper outliers\n",
      "        are ignored. If not provided, *range* is ``(x.min(), x.max())``.\n",
      "        Range has no effect if *bins* is a sequence.\n",
      "    \n",
      "        If *bins* is a sequence or *range* is specified, autoscaling\n",
      "        is based on the specified bin range instead of the\n",
      "        range of x.\n",
      "    \n",
      "        Default is ``None``\n",
      "    \n",
      "    density : boolean, optional\n",
      "        If ``True``, the first element of the return tuple will\n",
      "        be the counts normalized to form a probability density, i.e.,\n",
      "        the area (or integral) under the histogram will sum to 1.\n",
      "        This is achieved by dividing the count by the number of\n",
      "        observations times the bin width and not dividing by the total\n",
      "        number of observations. If *stacked* is also ``True``, the sum of\n",
      "        the histograms is normalized to 1.\n",
      "    \n",
      "        Default is ``None`` for both *normed* and *density*. If either is\n",
      "        set, then that value will be used. If neither are set, then the\n",
      "        args will be treated as ``False``.\n",
      "    \n",
      "        If both *density* and *normed* are set an error is raised.\n",
      "    \n",
      "    weights : (n, ) array_like or None, optional\n",
      "        An array of weights, of the same shape as *x*.  Each value in *x*\n",
      "        only contributes its associated weight towards the bin count\n",
      "        (instead of 1).  If *normed* or *density* is ``True``,\n",
      "        the weights are normalized, so that the integral of the density\n",
      "        over the range remains 1.\n",
      "    \n",
      "        Default is ``None``\n",
      "    \n",
      "    cumulative : boolean, optional\n",
      "        If ``True``, then a histogram is computed where each bin gives the\n",
      "        counts in that bin plus all bins for smaller values. The last bin\n",
      "        gives the total number of datapoints. If *normed* or *density*\n",
      "        is also ``True`` then the histogram is normalized such that the\n",
      "        last bin equals 1. If *cumulative* evaluates to less than 0\n",
      "        (e.g., -1), the direction of accumulation is reversed.\n",
      "        In this case, if *normed* and/or *density* is also ``True``, then\n",
      "        the histogram is normalized such that the first bin equals 1.\n",
      "    \n",
      "        Default is ``False``\n",
      "    \n",
      "    bottom : array_like, scalar, or None\n",
      "        Location of the bottom baseline of each bin.  If a scalar,\n",
      "        the base line for each bin is shifted by the same amount.\n",
      "        If an array, each bin is shifted independently and the length\n",
      "        of bottom must match the number of bins.  If None, defaults to 0.\n",
      "    \n",
      "        Default is ``None``\n",
      "    \n",
      "    histtype : {'bar', 'barstacked', 'step',  'stepfilled'}, optional\n",
      "        The type of histogram to draw.\n",
      "    \n",
      "        - 'bar' is a traditional bar-type histogram.  If multiple data\n",
      "          are given the bars are aranged side by side.\n",
      "    \n",
      "        - 'barstacked' is a bar-type histogram where multiple\n",
      "          data are stacked on top of each other.\n",
      "    \n",
      "        - 'step' generates a lineplot that is by default\n",
      "          unfilled.\n",
      "    \n",
      "        - 'stepfilled' generates a lineplot that is by default\n",
      "          filled.\n",
      "    \n",
      "        Default is 'bar'\n",
      "    \n",
      "    align : {'left', 'mid', 'right'}, optional\n",
      "        Controls how the histogram is plotted.\n",
      "    \n",
      "            - 'left': bars are centered on the left bin edges.\n",
      "    \n",
      "            - 'mid': bars are centered between the bin edges.\n",
      "    \n",
      "            - 'right': bars are centered on the right bin edges.\n",
      "    \n",
      "        Default is 'mid'\n",
      "    \n",
      "    orientation : {'horizontal', 'vertical'}, optional\n",
      "        If 'horizontal', `~matplotlib.pyplot.barh` will be used for\n",
      "        bar-type histograms and the *bottom* kwarg will be the left edges.\n",
      "    \n",
      "    rwidth : scalar or None, optional\n",
      "        The relative width of the bars as a fraction of the bin width.  If\n",
      "        ``None``, automatically compute the width.\n",
      "    \n",
      "        Ignored if *histtype* is 'step' or 'stepfilled'.\n",
      "    \n",
      "        Default is ``None``\n",
      "    \n",
      "    log : boolean, optional\n",
      "        If ``True``, the histogram axis will be set to a log scale. If\n",
      "        *log* is ``True`` and *x* is a 1D array, empty bins will be\n",
      "        filtered out and only the non-empty ``(n, bins, patches)``\n",
      "        will be returned.\n",
      "    \n",
      "        Default is ``False``\n",
      "    \n",
      "    color : color or array_like of colors or None, optional\n",
      "        Color spec or sequence of color specs, one per dataset.  Default\n",
      "        (``None``) uses the standard line color sequence.\n",
      "    \n",
      "        Default is ``None``\n",
      "    \n",
      "    label : string or None, optional\n",
      "        String, or sequence of strings to match multiple datasets.  Bar\n",
      "        charts yield multiple patches per dataset, but only the first gets\n",
      "        the label, so that the legend command will work as expected.\n",
      "    \n",
      "        default is ``None``\n",
      "    \n",
      "    stacked : boolean, optional\n",
      "        If ``True``, multiple data are stacked on top of each other If\n",
      "        ``False`` multiple data are aranged side by side if histtype is\n",
      "        'bar' or on top of each other if histtype is 'step'\n",
      "    \n",
      "        Default is ``False``\n",
      "    \n",
      "    Returns\n",
      "    -------\n",
      "    n : array or list of arrays\n",
      "        The values of the histogram bins. See *normed* or *density*\n",
      "        and *weights* for a description of the possible semantics.\n",
      "        If input *x* is an array, then this is an array of length\n",
      "        *nbins*. If input is a sequence arrays\n",
      "        ``[data1, data2,..]``, then this is a list of arrays with\n",
      "        the values of the histograms for each of the arrays in the\n",
      "        same order.\n",
      "    \n",
      "    bins : array\n",
      "        The edges of the bins. Length nbins + 1 (nbins left edges and right\n",
      "        edge of last bin).  Always a single array even when multiple data\n",
      "        sets are passed in.\n",
      "    \n",
      "    patches : list or list of lists\n",
      "        Silent list of individual patches used to create the histogram\n",
      "        or list of such list if multiple input datasets.\n",
      "    \n",
      "    Other Parameters\n",
      "    ----------------\n",
      "    **kwargs : `~matplotlib.patches.Patch` properties\n",
      "    \n",
      "    See also\n",
      "    --------\n",
      "    hist2d : 2D histograms\n",
      "    \n",
      "    Notes\n",
      "    -----\n",
      "    Until numpy release 1.5, the underlying numpy histogram function was\n",
      "    incorrect with ``normed=True`` if bin sizes were unequal.  MPL\n",
      "    inherited that error. It is now corrected within MPL when using\n",
      "    earlier numpy versions.\n",
      "    \n",
      "    .. note::\n",
      "        In addition to the above described arguments, this function can take a\n",
      "        **data** keyword argument. If such a **data** argument is given, the\n",
      "        following arguments are replaced by **data[<arg>]**:\n",
      "    \n",
      "        * All arguments with the following names: 'weights', 'x'.\n",
      "\n"
     ]
    }
   ],
   "source": [
    "# Iterate over DataFrame\n",
    "\n",
    "df = pd.DataFrame(data=np.array([[1, 2, 3], [4, 5, 6], [7, 8, 9]]), columns=['A', 'B', 'C'])\n",
    "print(df)\n",
    "for index, row in df.iterrows() :\n",
    "    print(row['A'], row['B'])\n",
    "    \n",
    "help(plt.hist)"
   ]
  },
  {
   "cell_type": "code",
   "execution_count": 256,
   "metadata": {},
   "outputs": [],
   "source": [
    "import matplotlib.pyplot as plt"
   ]
  },
  {
   "cell_type": "code",
   "execution_count": 286,
   "metadata": {},
   "outputs": [
    {
     "data": {
      "image/png": "[encoded data removed]",
      "text/plain": [
       "<matplotlib.figure.Figure at 0x113222810>"
      ]
     },
     "metadata": {},
     "output_type": "display_data"
    },
    {
     "data": {
      "image/png": "[encoded data removed]",
      "text/plain": [
       "<matplotlib.figure.Figure at 0x113631cd0>"
      ]
     },
     "metadata": {},
     "output_type": "display_data"
    }
   ],
   "source": [
    "plt.bar(['Action', 'Comedy', 'Drame', 'Romance', 'SciFi'], [5, 4, 1, 6, 4])\n",
    "\n",
    "plt.show()\n",
    "\n",
    "x=[2, 4, 6, 8, 10]\n",
    "y=[6, 7, 8, 2, 4]\n",
    "\n",
    "plt.bar(x, y)\n",
    "plt.xlabel('X')\n",
    "plt.ylabel('Y')\n",
    "plt.show()"
   ]
  },
  {
   "cell_type": "code",
   "execution_count": null,
   "metadata": {},
   "outputs": [],
   "source": []
  }
 ],
 "metadata": {
  "kernelspec": {
   "display_name": "Python 2",
   "language": "python",
   "name": "python2"
  },
  "language_info": {
   "codemirror_mode": {
    "name": "ipython",
    "version": 2
   },
   "file_extension": ".py",
   "mimetype": "text/x-python",
   "name": "python",
   "nbconvert_exporter": "python",
   "pygments_lexer": "ipython2",
   "version": "2.7.6"
  }
 },
 "nbformat": 4,
 "nbformat_minor": 2
}
