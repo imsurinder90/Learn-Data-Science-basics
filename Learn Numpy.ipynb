{
 "cells": [
  {
   "cell_type": "code",
   "execution_count": 290,
   "metadata": {},
   "outputs": [],
   "source": [
    "import numpy as np\n",
    "import pandas as pd\n",
    "from io import StringIO\n",
    "import numpy as np\n",
    "import matplotlib.pyplot as plt"
   ]
  },
  {
   "cell_type": "code",
   "execution_count": 103,
   "metadata": {},
   "outputs": [],
   "source": [
    "# Learn Numpy\n",
    "\n",
    "# Create Numpy arrays\n",
    "\n",
    "mat = np.zeros((3,3), dtype=int)\n",
    "\n",
    "mat = np.ones((3, 3), dtype=int)\n",
    "\n",
    "mat = np.arange(10, 25, 5)\n",
    "\n",
    "mat = np.linspace(1, 10, 9, dtype=int)\n",
    "\n",
    "mat = np.identity(3, dtype=int)\n",
    "# help(np.linspace)\n",
    "\n",
    "# print mat"
   ]
  },
  {
   "cell_type": "code",
   "execution_count": 104,
   "metadata": {},
   "outputs": [],
   "source": [
    "# Load Numpy Arrays from text file\n",
    "\n",
    "d = StringIO(u'M 21 72\\nF 35 58')\n",
    "res = np.loadtxt(d, dtype={'names': ('gender', 'age', 'weight'),\n",
    "                     'formats': ('S1', 'i4', 'f4')})\n",
    "# print res\n",
    "\n",
    "# Import data\n",
    "x, y, z = np.loadtxt('data.txt',\n",
    "                    skiprows=1,\n",
    "                    unpack=True)\n",
    "# print x\n",
    "# print y\n",
    "# print z\n",
    "\n",
    "# Load Numpy Array from text file using genfromtxt method\n",
    "\n",
    "my_array2 = np.genfromtxt('data2.txt',\n",
    "                      skip_header=1,\n",
    "                      filling_values=1)\n",
    "\n",
    "# print my_array2\n",
    "\n",
    "s = StringIO(u\"1,1.3,abcde\")\n",
    "data = np.genfromtxt(s, dtype=[('myinddt','i8'),('myfloat','f8'),\n",
    "                               ('mystring','S5')], delimiter=\",\")\n",
    "\n",
    "s.seek(0)\n",
    "data = np.genfromtxt(s, dtype=None, delimiter=\",\")\n",
    "# print data\n",
    "\n",
    "# Save array to file\n",
    "\n",
    "x = np.arange(10,25,5)\n",
    "np.savetxt('test.out', x, delimiter=',', fmt='%d')\n"
   ]
  },
  {
   "cell_type": "code",
   "execution_count": 135,
   "metadata": {},
   "outputs": [
    {
     "name": "stdout",
     "output_type": "stream",
     "text": [
      "2\n",
      "8\n",
      "  C_CONTIGUOUS : True\n",
      "  F_CONTIGUOUS : False\n",
      "  OWNDATA : True\n",
      "  WRITEABLE : True\n",
      "  ALIGNED : True\n",
      "  UPDATEIFCOPY : False\n",
      "1\n",
      "8\n",
      "int8\n",
      "[[ 1.  2.  5.  7.]\n",
      " [ 3.  6.  4.  8.]]\n",
      "int8\n"
     ]
    }
   ],
   "source": [
    "# Insepct Numpy Arrays\n",
    "\n",
    "my_array = np.array([[1, 2, 5, 7], [3, 6, 4, 8]], dtype=np.int8)\n",
    "\n",
    "# Print the number of `my_array`'s dimensions\n",
    "print(my_array.ndim)\n",
    "\n",
    "# Print the number of `my_array`'s elements\n",
    "print(my_array.size)\n",
    "\n",
    "# Print information about `my_array`'s memory layout\n",
    "print(my_array.flags)\n",
    "\n",
    "# Print the length of one array element in bytes\n",
    "print(my_array.itemsize)\n",
    "\n",
    "# Print the total consumed bytes by `my_array`'s elements\n",
    "print(my_array.nbytes)\n",
    "\n",
    "# Type of an array\n",
    "print(my_array.dtype)\n",
    "\n",
    "# change type of an array\n",
    "print(my_array.astype(float))\n",
    "print(my_array.dtype)\n"
   ]
  },
  {
   "cell_type": "code",
   "execution_count": 177,
   "metadata": {},
   "outputs": [
    {
     "name": "stdout",
     "output_type": "stream",
     "text": [
      "[[ 1.  1.  1.]\n",
      " [ 1.  1.  1.]]\n",
      "(2, 3)\n",
      "(3,)\n",
      "[[[ 0.37364355  0.67762829  0.12617186  0.96695303]]\n",
      "\n",
      " [[ 0.35830344  0.67085542  0.91164594  0.28416447]]\n",
      "\n",
      " [[ 0.04199323  0.27668971  0.06170807  0.83333238]]\n",
      "\n",
      " [[ 0.79511239  0.50302279  0.33533656  0.49506084]]\n",
      "\n",
      " [[ 0.01697272  0.02205323  0.67533832  0.37298891]]]\n"
     ]
    }
   ],
   "source": [
    "# Numpy Array broadcasting\n",
    "\n",
    "# Initialize `x`\n",
    "x = np.ones((2,3))\n",
    "\n",
    "# Check shape of `x`\n",
    "print(x)\n",
    "\n",
    "# Initialize `y`\n",
    "y = np.array([[1, 2, 3],[4, 5, 6]])\n",
    "\n",
    "# Check shape of `y`\n",
    "print(y.shape)\n",
    "\n",
    "# Add `x` and `y`\n",
    "x + y\n",
    "\n",
    "# Subtract two arrays\n",
    "z = np.array([1, 2, 3]) # with different shape (3,)\n",
    "\n",
    "# Check shape of `z`\n",
    "print(z.shape)\n",
    "x - z\n",
    "print np.random.random((5,1,4))"
   ]
  },
  {
   "cell_type": "code",
   "execution_count": 255,
   "metadata": {},
   "outputs": [
    {
     "data": {
      "text/plain": [
       "array([[[ 0,  1,  2,  3,  4],\n",
       "        [ 5,  6,  7,  8,  9]],\n",
       "\n",
       "       [[10, 11, 12, 13, 14],\n",
       "        [15, 16, 17, 18, 19]],\n",
       "\n",
       "       [[20, 21, 22, 23, 24],\n",
       "        [25, 26, 27, 28, 29]],\n",
       "\n",
       "       [[30, 31, 32, 33, 34],\n",
       "        [35, 36, 37, 38, 39]],\n",
       "\n",
       "       [[40, 41, 42, 43, 44],\n",
       "        [45, 46, 47, 48, 49]],\n",
       "\n",
       "       [[50, 51, 52, 53, 54],\n",
       "        [55, 56, 57, 58, 59]],\n",
       "\n",
       "       [[60, 61, 62, 63, 64],\n",
       "        [65, 66, 67, 68, 69]],\n",
       "\n",
       "       [[70, 71, 72, 73, 74],\n",
       "        [75, 76, 77, 78, 79]],\n",
       "\n",
       "       [[80, 81, 82, 83, 84],\n",
       "        [85, 86, 87, 88, 89]]])"
      ]
     },
     "execution_count": 255,
     "metadata": {},
     "output_type": "execute_result"
    }
   ],
   "source": [
    "# Index and Slicing\n",
    "\n",
    "my_2d_array = np.array(\n",
    "    [[1, 2, 3],\n",
    "     [4, 5, 6]]\n",
    ")\n",
    "# or \n",
    "\n",
    "my_2d_array = np.arange(1,7).reshape(2, 3)\n",
    "\n",
    "\n",
    "# Select the element at row 1 column 2\n",
    "# print(my_2d_array[1,2])\n",
    "\n",
    "# Select Items at index 0\n",
    "# print(my_2d_array[0:1])\n",
    "\n",
    "# Select Items at index 0 and 1\n",
    "# print(my_2d_array[0:2])\n",
    "\n",
    "# Select the element at row 0 and 1 and column 1\n",
    "# print(my_2d_array[0:2,1]) # 6\n",
    "\n",
    "my_3d_array = np.arange(90) # Create an array of 90 elements\n",
    "my_3d_array = my_3d_array.reshape(9, 2, 5) # generate 9 arrays of 2x5 (2 rows 5 cols)\n",
    "\n",
    "# Select the element at row 1, column 2 of 3 row \n",
    "# print(my_3d_array[3,1,2])\n",
    "\n",
    "# Select Items at 0th rows, then select element at row 1 col 2\n",
    "# print my_3d_array[0][1][2]\n",
    "\n",
    "# Try out a simple example\n",
    "# print(my_2d_array[my_2d_array<2])\n",
    "\n",
    "# Specify a condition\n",
    "bigger_than_3 = (my_3d_array >= 3)\n",
    "\n",
    "# Use the condition to index our 3d array\n",
    "# print(my_3d_array[bigger_than_3])\n",
    "\n",
    "my_3d_array"
   ]
  },
  {
   "cell_type": "code",
   "execution_count": 257,
   "metadata": {},
   "outputs": [
    {
     "name": "stdout",
     "output_type": "stream",
     "text": [
      "[4 2 6 1]\n"
     ]
    }
   ],
   "source": [
    "# Select elements at (1,0), (0,1), (1,2) and (0,0)\n",
    "print(my_2d_array[[1, 0, 1, 0],[0, 1, 2, 0]])\n",
    "\n",
    "# Select a subset of the rows and columns\n",
    "# print(my_2d_array[[1, 0, 1, 0]][:,[0,1,2,0]])"
   ]
  },
  {
   "cell_type": "code",
   "execution_count": 259,
   "metadata": {},
   "outputs": [
    {
     "name": "stdout",
     "output_type": "stream",
     "text": [
      "Data-type of the array's elements.\n",
      "\n",
      "Parameters\n",
      "----------\n",
      "None\n",
      "\n",
      "Returns\n",
      "-------\n",
      "d : numpy dtype object\n",
      "\n",
      "See Also\n",
      "--------\n",
      "numpy.dtype\n",
      "\n",
      "Examples\n",
      "--------\n",
      ">>> x\n",
      "array([[0, 1],\n",
      "       [2, 3]])\n",
      ">>> x.dtype\n",
      "dtype('int32')\n",
      ">>> type(x.dtype)\n",
      "<type 'numpy.dtype'>\n"
     ]
    }
   ],
   "source": [
    "# Help functions `np.lookfor()` and `np.info()`\n",
    "\n",
    "# Look up info on `mean` with `np.lookfor()` \n",
    "# print(np.lookfor(\"mean\"))\n",
    "\n",
    "# Get info on data types with `np.info()`\n",
    "np.info(np.ndarray.dtype)"
   ]
  },
  {
   "cell_type": "code",
   "execution_count": 260,
   "metadata": {},
   "outputs": [
    {
     "name": "stdout",
     "output_type": "stream",
     "text": [
      "[[1 2 3]\n",
      " [4 5 6]]\n",
      "[[1 4]\n",
      " [2 5]\n",
      " [3 6]]\n",
      "[[1 4]\n",
      " [2 5]\n",
      " [3 6]]\n"
     ]
    }
   ],
   "source": [
    "# Transpose Numpy Arrays\n",
    "\n",
    "# Print `my_2d_array`\n",
    "print(my_2d_array)\n",
    "\n",
    "# Transpose `my_2d_array`\n",
    "print(np.transpose(my_2d_array))\n",
    "\n",
    "# Or use `T` to transpose `my_2d_array`\n",
    "print(my_2d_array.T)"
   ]
  },
  {
   "cell_type": "code",
   "execution_count": 280,
   "metadata": {},
   "outputs": [
    {
     "name": "stdout",
     "output_type": "stream",
     "text": [
      "[ 1  2  3  4  5  7  8  9 10]\n",
      "[[1 2 3]\n",
      " [4 5 6]]\n",
      "[[1 2 3 7]\n",
      " [4 5 6 8]]\n"
     ]
    }
   ],
   "source": [
    "# Append to Numpy Array\n",
    "\n",
    "my_array = np.arange(1, 6)\n",
    "# Append a 1D array to your `my_array`\n",
    "new_array = np.append(my_array, [7, 8, 9, 10])\n",
    "\n",
    "# Print `new_array`\n",
    "print(new_array)\n",
    "\n",
    "print(my_2d_array)\n",
    "\n",
    "# Append an extra column to your `my_2d_array`\n",
    "new_2d_array = np.append(my_2d_array, [[7], [8]], axis=1)\n",
    "\n",
    "# Print `new_2d_array`\n",
    "print(new_2d_array)\n",
    "\n",
    "\n",
    "\n",
    "# Insert And Delete Array Elements - `np.insert(arr, index, element), np.delete(arr, [index])\n",
    "\n",
    "# ones = np.ones(3)\n",
    "# print(ones)\n",
    "\n",
    "# # # Insert element 5 at index 2\n",
    "# ones = np.insert(ones, 1, 5)\n",
    "# print(ones)\n",
    "\n",
    "# # Remove element from index 2\n",
    "# ones = np.delete(ones, [1])\n",
    "\n",
    "# print (ones)"
   ]
  },
  {
   "cell_type": "code",
   "execution_count": 303,
   "metadata": {},
   "outputs": [
    {
     "data": {
      "text/plain": [
       "array([[[ 1,  2,  3,  4],\n",
       "        [ 5,  6,  7,  8]],\n",
       "\n",
       "       [[ 1,  2,  3,  4],\n",
       "        [ 9, 10, 11, 12]]])"
      ]
     },
     "execution_count": 303,
     "metadata": {},
     "output_type": "execute_result"
    }
   ],
   "source": [
    "# Visualize Numpy Arrays\n",
    "\n",
    "# Initialize your array\n",
    "my_3d_array = np.array([[[1,2,3,4], [5,6,7,8]], [[1,2,3,4], [9,10,11,12]]], dtype=np.int64)\n",
    "# print my_3d_array\n",
    "# print my_3d_array.shape\n",
    "\n",
    "# Pass the array to `np.histogram()`\n",
    "# print(np.histogram(my_3d_array))\n",
    "\n",
    "# Specify the number of bins\n",
    "# print(np.histogram(my_3d_array, bins=range(0,13)))\n",
    "\n",
    "# Construct the histogram with a flattened 3d array and a range of bins\n",
    "plt.hist(my_3d_array.ravel(), bins=range(0,13))\n",
    "\n",
    "# Add a title to the plot\n",
    "plt.title('Frequency of My 3D Array Elements')\n",
    "\n",
    "# Show the plot\n",
    "# plt.show()\n",
    "my_3d_array = np.array([[[1,2,3,4], [5,6,7,8]], [[1,2,3,4], [9,10,11,12]]], dtype=np.int64)\n",
    "my_3d_array"
   ]
  },
  {
   "cell_type": "code",
   "execution_count": null,
   "metadata": {},
   "outputs": [],
   "source": []
  }
 ],
 "metadata": {
  "kernelspec": {
   "display_name": "Python 2",
   "language": "python",
   "name": "python2"
  },
  "language_info": {
   "codemirror_mode": {
    "name": "ipython",
    "version": 2
   },
   "file_extension": ".py",
   "mimetype": "text/x-python",
   "name": "python",
   "nbconvert_exporter": "python",
   "pygments_lexer": "ipython2",
   "version": "2.7.6"
  }
 },
 "nbformat": 4,
 "nbformat_minor": 2
}
